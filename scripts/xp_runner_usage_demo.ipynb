{
 "cells": [
  {
   "cell_type": "code",
   "execution_count": null,
   "id": "21c5e2ec",
   "metadata": {},
   "outputs": [],
   "source": [
    "import sys\n",
    "import os\n",
    "\n",
    "project_root = os.path.abspath('..')\n",
    "if project_root not in sys.path:\n",
    "    sys.path.insert(0, project_root)"
   ]
  },
  {
   "cell_type": "code",
   "execution_count": null,
   "id": "d489d143",
   "metadata": {},
   "outputs": [],
   "source": [
    "from codebase.experiment import run_experiment\n",
    "from codebase.domain import TestBed\n",
    "from codebase.textualization import TextualizerType\n",
    "from codebase.vectorization import SentenceVectorizerType"
   ]
  },
  {
   "cell_type": "code",
   "execution_count": null,
   "id": "dce93f78",
   "metadata": {},
   "outputs": [],
   "source": [
    "results = run_experiment(\n",
    "    output_dir=\"../output\",\n",
    "    config_path=\"../config/experiment.toml\",\n",
    "    sources=[TestBed.ORDA],\n",
    "    targets=[TestBed.ORDB],\n",
    "    textualizers=[TextualizerType.CTS],\n",
    "    vectorizers=[SentenceVectorizerType.TFIDF],\n",
    "    use_others=[False],\n",
    ")"
   ]
  },
  {
   "cell_type": "code",
   "execution_count": null,
   "id": "3ad98d95",
   "metadata": {},
   "outputs": [],
   "source": [
    "results = run_experiment(\n",
    "    output_dir=\"../output\",\n",
    "    config_path=\"../config/experiment.toml\",\n",
    "    sources=[TestBed.ORDA],\n",
    "    targets=[TestBed.ORDB],\n",
    "    textualizers=[\n",
    "        TextualizerType.CSS,\n",
    "        TextualizerType.CSS_NO_DURATION,\n",
    "        TextualizerType.CSS_NO_ROOM,\n",
    "        TextualizerType.CSS_NO_TIME,\n",
    "        TextualizerType.CSS_NO_TOKENS,\n",
    "    ],\n",
    "    vectorizers=[SentenceVectorizerType.TFIDF],\n",
    "    use_others=[False],\n",
    ")"
   ]
  }
 ],
 "metadata": {
  "kernelspec": {
   "display_name": ".venv",
   "language": "python",
   "name": "python3"
  },
  "language_info": {
   "codemirror_mode": {
    "name": "ipython",
    "version": 3
   },
   "file_extension": ".py",
   "mimetype": "text/x-python",
   "name": "python",
   "nbconvert_exporter": "python",
   "pygments_lexer": "ipython3",
   "version": "3.12.3"
  }
 },
 "nbformat": 4,
 "nbformat_minor": 5
}
